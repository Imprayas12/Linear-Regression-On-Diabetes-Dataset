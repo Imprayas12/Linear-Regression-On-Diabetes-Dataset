{
 "cells": [
  {
   "cell_type": "code",
   "execution_count": 10,
   "id": "b67cc7fe",
   "metadata": {},
   "outputs": [
    {
     "data": {
      "text/plain": [
       "(442,)"
      ]
     },
     "execution_count": 10,
     "metadata": {},
     "output_type": "execute_result"
    }
   ],
   "source": [
    "from sklearn.datasets import load_diabetes\n",
    "import pandas as pd\n",
    "import numpy as np\n",
    "import matplotlib.pyplot as plt\n",
    "import seaborn as sn\n",
    "\n",
    "X,y = load_diabetes(return_X_y = True)"
   ]
  },
  {
   "cell_type": "code",
   "execution_count": 12,
   "id": "9eee9f71",
   "metadata": {},
   "outputs": [
    {
     "data": {
      "text/html": [
       "<div>\n",
       "<style scoped>\n",
       "    .dataframe tbody tr th:only-of-type {\n",
       "        vertical-align: middle;\n",
       "    }\n",
       "\n",
       "    .dataframe tbody tr th {\n",
       "        vertical-align: top;\n",
       "    }\n",
       "\n",
       "    .dataframe thead th {\n",
       "        text-align: right;\n",
       "    }\n",
       "</style>\n",
       "<table border=\"1\" class=\"dataframe\">\n",
       "  <thead>\n",
       "    <tr style=\"text-align: right;\">\n",
       "      <th></th>\n",
       "      <th>A</th>\n",
       "      <th>B</th>\n",
       "      <th>C</th>\n",
       "      <th>D</th>\n",
       "      <th>E</th>\n",
       "      <th>F</th>\n",
       "      <th>G</th>\n",
       "      <th>H</th>\n",
       "      <th>I</th>\n",
       "      <th>J</th>\n",
       "    </tr>\n",
       "  </thead>\n",
       "  <tbody>\n",
       "    <tr>\n",
       "      <th>0</th>\n",
       "      <td>0.038076</td>\n",
       "      <td>0.050680</td>\n",
       "      <td>0.061696</td>\n",
       "      <td>0.021872</td>\n",
       "      <td>-0.044223</td>\n",
       "      <td>-0.034821</td>\n",
       "      <td>-0.043401</td>\n",
       "      <td>-0.002592</td>\n",
       "      <td>0.019908</td>\n",
       "      <td>-0.017646</td>\n",
       "    </tr>\n",
       "    <tr>\n",
       "      <th>1</th>\n",
       "      <td>-0.001882</td>\n",
       "      <td>-0.044642</td>\n",
       "      <td>-0.051474</td>\n",
       "      <td>-0.026328</td>\n",
       "      <td>-0.008449</td>\n",
       "      <td>-0.019163</td>\n",
       "      <td>0.074412</td>\n",
       "      <td>-0.039493</td>\n",
       "      <td>-0.068330</td>\n",
       "      <td>-0.092204</td>\n",
       "    </tr>\n",
       "    <tr>\n",
       "      <th>2</th>\n",
       "      <td>0.085299</td>\n",
       "      <td>0.050680</td>\n",
       "      <td>0.044451</td>\n",
       "      <td>-0.005671</td>\n",
       "      <td>-0.045599</td>\n",
       "      <td>-0.034194</td>\n",
       "      <td>-0.032356</td>\n",
       "      <td>-0.002592</td>\n",
       "      <td>0.002864</td>\n",
       "      <td>-0.025930</td>\n",
       "    </tr>\n",
       "    <tr>\n",
       "      <th>3</th>\n",
       "      <td>-0.089063</td>\n",
       "      <td>-0.044642</td>\n",
       "      <td>-0.011595</td>\n",
       "      <td>-0.036656</td>\n",
       "      <td>0.012191</td>\n",
       "      <td>0.024991</td>\n",
       "      <td>-0.036038</td>\n",
       "      <td>0.034309</td>\n",
       "      <td>0.022692</td>\n",
       "      <td>-0.009362</td>\n",
       "    </tr>\n",
       "    <tr>\n",
       "      <th>4</th>\n",
       "      <td>0.005383</td>\n",
       "      <td>-0.044642</td>\n",
       "      <td>-0.036385</td>\n",
       "      <td>0.021872</td>\n",
       "      <td>0.003935</td>\n",
       "      <td>0.015596</td>\n",
       "      <td>0.008142</td>\n",
       "      <td>-0.002592</td>\n",
       "      <td>-0.031991</td>\n",
       "      <td>-0.046641</td>\n",
       "    </tr>\n",
       "  </tbody>\n",
       "</table>\n",
       "</div>"
      ],
      "text/plain": [
       "          A         B         C         D         E         F         G  \\\n",
       "0  0.038076  0.050680  0.061696  0.021872 -0.044223 -0.034821 -0.043401   \n",
       "1 -0.001882 -0.044642 -0.051474 -0.026328 -0.008449 -0.019163  0.074412   \n",
       "2  0.085299  0.050680  0.044451 -0.005671 -0.045599 -0.034194 -0.032356   \n",
       "3 -0.089063 -0.044642 -0.011595 -0.036656  0.012191  0.024991 -0.036038   \n",
       "4  0.005383 -0.044642 -0.036385  0.021872  0.003935  0.015596  0.008142   \n",
       "\n",
       "          H         I         J  \n",
       "0 -0.002592  0.019908 -0.017646  \n",
       "1 -0.039493 -0.068330 -0.092204  \n",
       "2 -0.002592  0.002864 -0.025930  \n",
       "3  0.034309  0.022692 -0.009362  \n",
       "4 -0.002592 -0.031991 -0.046641  "
      ]
     },
     "execution_count": 12,
     "metadata": {},
     "output_type": "execute_result"
    }
   ],
   "source": [
    "f1 = pd.DataFrame(X,columns = [\"A\",\"B\",\"C\",\"D\",\"E\",\"F\",\"G\",\"H\",\"I\",\"J\"])\n",
    "f1.head()"
   ]
  },
  {
   "cell_type": "code",
   "execution_count": 14,
   "id": "ad1ac322",
   "metadata": {},
   "outputs": [
    {
     "data": {
      "text/html": [
       "<div>\n",
       "<style scoped>\n",
       "    .dataframe tbody tr th:only-of-type {\n",
       "        vertical-align: middle;\n",
       "    }\n",
       "\n",
       "    .dataframe tbody tr th {\n",
       "        vertical-align: top;\n",
       "    }\n",
       "\n",
       "    .dataframe thead th {\n",
       "        text-align: right;\n",
       "    }\n",
       "</style>\n",
       "<table border=\"1\" class=\"dataframe\">\n",
       "  <thead>\n",
       "    <tr style=\"text-align: right;\">\n",
       "      <th></th>\n",
       "      <th>Disease Level</th>\n",
       "    </tr>\n",
       "  </thead>\n",
       "  <tbody>\n",
       "    <tr>\n",
       "      <th>0</th>\n",
       "      <td>151.0</td>\n",
       "    </tr>\n",
       "    <tr>\n",
       "      <th>1</th>\n",
       "      <td>75.0</td>\n",
       "    </tr>\n",
       "    <tr>\n",
       "      <th>2</th>\n",
       "      <td>141.0</td>\n",
       "    </tr>\n",
       "    <tr>\n",
       "      <th>3</th>\n",
       "      <td>206.0</td>\n",
       "    </tr>\n",
       "    <tr>\n",
       "      <th>4</th>\n",
       "      <td>135.0</td>\n",
       "    </tr>\n",
       "  </tbody>\n",
       "</table>\n",
       "</div>"
      ],
      "text/plain": [
       "   Disease Level\n",
       "0          151.0\n",
       "1           75.0\n",
       "2          141.0\n",
       "3          206.0\n",
       "4          135.0"
      ]
     },
     "execution_count": 14,
     "metadata": {},
     "output_type": "execute_result"
    }
   ],
   "source": [
    "f2 = pd.DataFrame(y,columns = [\"Disease Level\"])\n",
    "f2.head()"
   ]
  },
  {
   "cell_type": "code",
   "execution_count": 15,
   "id": "73094088",
   "metadata": {},
   "outputs": [
    {
     "data": {
      "text/html": [
       "<div>\n",
       "<style scoped>\n",
       "    .dataframe tbody tr th:only-of-type {\n",
       "        vertical-align: middle;\n",
       "    }\n",
       "\n",
       "    .dataframe tbody tr th {\n",
       "        vertical-align: top;\n",
       "    }\n",
       "\n",
       "    .dataframe thead th {\n",
       "        text-align: right;\n",
       "    }\n",
       "</style>\n",
       "<table border=\"1\" class=\"dataframe\">\n",
       "  <thead>\n",
       "    <tr style=\"text-align: right;\">\n",
       "      <th></th>\n",
       "      <th>A</th>\n",
       "      <th>B</th>\n",
       "      <th>C</th>\n",
       "      <th>D</th>\n",
       "      <th>E</th>\n",
       "      <th>F</th>\n",
       "      <th>G</th>\n",
       "      <th>H</th>\n",
       "      <th>I</th>\n",
       "      <th>J</th>\n",
       "      <th>Disease Level</th>\n",
       "    </tr>\n",
       "  </thead>\n",
       "  <tbody>\n",
       "    <tr>\n",
       "      <th>0</th>\n",
       "      <td>0.038076</td>\n",
       "      <td>0.050680</td>\n",
       "      <td>0.061696</td>\n",
       "      <td>0.021872</td>\n",
       "      <td>-0.044223</td>\n",
       "      <td>-0.034821</td>\n",
       "      <td>-0.043401</td>\n",
       "      <td>-0.002592</td>\n",
       "      <td>0.019908</td>\n",
       "      <td>-0.017646</td>\n",
       "      <td>151.0</td>\n",
       "    </tr>\n",
       "    <tr>\n",
       "      <th>1</th>\n",
       "      <td>-0.001882</td>\n",
       "      <td>-0.044642</td>\n",
       "      <td>-0.051474</td>\n",
       "      <td>-0.026328</td>\n",
       "      <td>-0.008449</td>\n",
       "      <td>-0.019163</td>\n",
       "      <td>0.074412</td>\n",
       "      <td>-0.039493</td>\n",
       "      <td>-0.068330</td>\n",
       "      <td>-0.092204</td>\n",
       "      <td>75.0</td>\n",
       "    </tr>\n",
       "    <tr>\n",
       "      <th>2</th>\n",
       "      <td>0.085299</td>\n",
       "      <td>0.050680</td>\n",
       "      <td>0.044451</td>\n",
       "      <td>-0.005671</td>\n",
       "      <td>-0.045599</td>\n",
       "      <td>-0.034194</td>\n",
       "      <td>-0.032356</td>\n",
       "      <td>-0.002592</td>\n",
       "      <td>0.002864</td>\n",
       "      <td>-0.025930</td>\n",
       "      <td>141.0</td>\n",
       "    </tr>\n",
       "    <tr>\n",
       "      <th>3</th>\n",
       "      <td>-0.089063</td>\n",
       "      <td>-0.044642</td>\n",
       "      <td>-0.011595</td>\n",
       "      <td>-0.036656</td>\n",
       "      <td>0.012191</td>\n",
       "      <td>0.024991</td>\n",
       "      <td>-0.036038</td>\n",
       "      <td>0.034309</td>\n",
       "      <td>0.022692</td>\n",
       "      <td>-0.009362</td>\n",
       "      <td>206.0</td>\n",
       "    </tr>\n",
       "    <tr>\n",
       "      <th>4</th>\n",
       "      <td>0.005383</td>\n",
       "      <td>-0.044642</td>\n",
       "      <td>-0.036385</td>\n",
       "      <td>0.021872</td>\n",
       "      <td>0.003935</td>\n",
       "      <td>0.015596</td>\n",
       "      <td>0.008142</td>\n",
       "      <td>-0.002592</td>\n",
       "      <td>-0.031991</td>\n",
       "      <td>-0.046641</td>\n",
       "      <td>135.0</td>\n",
       "    </tr>\n",
       "  </tbody>\n",
       "</table>\n",
       "</div>"
      ],
      "text/plain": [
       "          A         B         C         D         E         F         G  \\\n",
       "0  0.038076  0.050680  0.061696  0.021872 -0.044223 -0.034821 -0.043401   \n",
       "1 -0.001882 -0.044642 -0.051474 -0.026328 -0.008449 -0.019163  0.074412   \n",
       "2  0.085299  0.050680  0.044451 -0.005671 -0.045599 -0.034194 -0.032356   \n",
       "3 -0.089063 -0.044642 -0.011595 -0.036656  0.012191  0.024991 -0.036038   \n",
       "4  0.005383 -0.044642 -0.036385  0.021872  0.003935  0.015596  0.008142   \n",
       "\n",
       "          H         I         J  Disease Level  \n",
       "0 -0.002592  0.019908 -0.017646          151.0  \n",
       "1 -0.039493 -0.068330 -0.092204           75.0  \n",
       "2 -0.002592  0.002864 -0.025930          141.0  \n",
       "3  0.034309  0.022692 -0.009362          206.0  \n",
       "4 -0.002592 -0.031991 -0.046641          135.0  "
      ]
     },
     "execution_count": 15,
     "metadata": {},
     "output_type": "execute_result"
    }
   ],
   "source": [
    "df = pd.merge(f1,f2,left_index=True,right_index=True)\n",
    "df.head()"
   ]
  },
  {
   "cell_type": "code",
   "execution_count": 17,
   "id": "dad36160",
   "metadata": {},
   "outputs": [
    {
     "data": {
      "text/plain": [
       "<AxesSubplot:>"
      ]
     },
     "execution_count": 17,
     "metadata": {},
     "output_type": "execute_result"
    },
    {
     "data": {
      "image/png": "[encoded data removed]",
      "text/plain": [
       "<Figure size 864x648 with 2 Axes>"
      ]
     },
     "metadata": {
      "needs_background": "light"
     },
     "output_type": "display_data"
    }
   ],
   "source": [
    "corrmat = df.corr()\n",
    "feature, axis = plt.subplots(figsize = (12,9))\n",
    "sn.heatmap(corrmat,square=True)"
   ]
  },
  {
   "cell_type": "code",
   "execution_count": 18,
   "id": "8e507e0c",
   "metadata": {},
   "outputs": [
    {
     "data": {
      "text/plain": [
       "<seaborn.axisgrid.FacetGrid at 0x257abd51670>"
      ]
     },
     "execution_count": 18,
     "metadata": {},
     "output_type": "execute_result"
    },
    {
     "data": {
      "image/png": "[encoded data removed]",
      "text/plain": [
       "<Figure size 360x360 with 1 Axes>"
      ]
     },
     "metadata": {
      "needs_background": "light"
     },
     "output_type": "display_data"
    }
   ],
   "source": [
    "sn.displot(df[\"Disease Level\"])"
   ]
  },
  {
   "cell_type": "code",
   "execution_count": 49,
   "id": "b451f88b",
   "metadata": {},
   "outputs": [
    {
     "data": {
      "text/plain": [
       "(110, 10)"
      ]
     },
     "execution_count": 49,
     "metadata": {},
     "output_type": "execute_result"
    }
   ],
   "source": [
    "from sklearn.model_selection import train_test_split\n",
    "X_train,X_val,y_train,y_val = train_test_split(X,y,test_size=0.75,random_state=0)\n",
    "X_train.shape"
   ]
  },
  {
   "cell_type": "code",
   "execution_count": 50,
   "id": "9020f2af",
   "metadata": {},
   "outputs": [
    {
     "data": {
      "text/plain": [
       "0.6281076518522537"
      ]
     },
     "execution_count": 50,
     "metadata": {},
     "output_type": "execute_result"
    }
   ],
   "source": [
    "from sklearn.linear_model import LinearRegression\n",
    "model = LinearRegression().fit(X_train,y_train)\n",
    "model.score(X_train,y_train)"
   ]
  },
  {
   "cell_type": "code",
   "execution_count": 51,
   "id": "be5013ad",
   "metadata": {},
   "outputs": [
    {
     "data": {
      "text/plain": [
       "array([244.19969102, 258.49248314, 173.9452608 , 131.34926957,\n",
       "       170.13466025, 265.95071816, 113.90124708, 200.74988859,\n",
       "       166.46157232, 230.93784462, 177.86814914, 195.66050941,\n",
       "       112.68905147,  97.52614797, 253.32726827,  81.25374743,\n",
       "       142.93855867,  60.30876952,  92.9150268 , 221.28159868,\n",
       "       195.21469999, 154.91156116, 172.26683849, 165.66432337,\n",
       "       207.77762039, 175.71352881,  80.54476828,  68.27740198,\n",
       "       166.67987472, 168.77643286, 172.72007578,  82.54495374,\n",
       "       137.47652181, 149.68702837, 163.79604026, 196.21720879,\n",
       "       178.24614919, 194.63406405, 134.2854231 , 213.52840952,\n",
       "        93.26072544, 163.22098847, 152.85863301, 186.24091571,\n",
       "       188.2905016 ,  80.98686832, 125.31146717, 137.07540072,\n",
       "       124.4374024 , 239.35151489, 175.64723322,  76.85476341,\n",
       "       156.76475031, 161.37973257, 248.14814162, 178.48828208,\n",
       "       201.23600393, 104.24784329, 150.91187282, 183.72042845,\n",
       "       219.71041342, 169.28214425, 183.20147832, 118.90780795,\n",
       "       271.28745282, 146.71160269,  91.03894267, 226.82591198,\n",
       "       208.28983081,   5.05761438,  68.91052368, 135.313643  ,\n",
       "       106.15423622, 148.82202543, 124.55446081, 181.07564248,\n",
       "       112.33660828, 207.02327192, 238.51301736, 197.82741875,\n",
       "       155.48188262, 213.0220404 ,  43.05826866, 209.66631003,\n",
       "        72.52799054,  93.34015707, 140.07842865, 195.98723896,\n",
       "       133.43358024, 140.98716776,  75.13312428, 130.79785334,\n",
       "        80.76988396, 164.47453326, 131.83258567,  98.52630891,\n",
       "       241.95500864, 244.22352312, 150.3216372 , 180.74844741,\n",
       "       200.63615343,  99.16125491, 210.03885322,  87.18808056,\n",
       "       223.73983563, 130.89575692, 233.8398449 , 269.62392004,\n",
       "       116.756337  , 113.40255079, 204.74136581, 111.95896632,\n",
       "       165.1052463 ,  77.4003009 ,  98.72432581, 230.42504769,\n",
       "       247.18174087, 125.24484114, 304.91626449, 123.39487577,\n",
       "       127.45430749, 114.57484234,  46.4479597 , 249.14619435,\n",
       "        87.99039042, 124.87406502, 199.62890791, 196.84590974,\n",
       "       194.96996505, 183.82358618, 200.10670252, 114.76585237,\n",
       "       180.93966621, 165.2397096 ,  76.70785026, 206.86758901,\n",
       "       261.36681082,  96.05101657,  72.13404771, 123.53326692,\n",
       "       118.61319489, 262.83663547, 179.52721773, 116.53537096,\n",
       "       122.82961859,  82.86865286,  51.08043206, 103.13939064,\n",
       "       167.27995431, 118.63593351, 172.75213078, 154.48478748,\n",
       "       257.24432113, 229.07230099, 285.09080945,  96.6344778 ,\n",
       "       114.48131147, 155.93357904, 150.70510326, 186.87035552,\n",
       "       235.96035173, 171.14822125,  85.20411845, 137.96869251,\n",
       "        63.89318041, 163.63901915, 201.19982033, 205.04217789,\n",
       "       108.82056972,  63.8344676 , 164.93114207, 312.22674178,\n",
       "       179.76517577, 187.04669109, 130.96362414, 176.95386037,\n",
       "       162.1816846 , 129.71254588, 220.02135879, 225.59673339,\n",
       "       278.40674254, 159.98356   , 134.18329661, 156.75776208,\n",
       "       244.82101461,  40.97454251,  84.11272805, 151.46663032,\n",
       "        53.48546403,  89.21299018, 310.92244356, 176.0240547 ,\n",
       "        63.00429693,  73.01665539,  74.75441606, 148.46734982,\n",
       "        83.5567913 , 241.2373167 , 226.30819025, 194.70176549,\n",
       "       179.24696194, 273.06347197, 173.28288348,  88.22196751,\n",
       "        91.58361202, 190.6388357 ,  31.88360935, 235.4618803 ,\n",
       "       279.59481035, 237.18031445, 200.7348112 , 148.81257885,\n",
       "       212.16341384, 102.68972021,  38.86135787, 127.00202898,\n",
       "       239.90947224, 208.34408678, 128.33064061, 215.82138127,\n",
       "       167.22105823,  99.82940809, 122.70649429, 112.6054657 ,\n",
       "       180.24957067, 155.30196911,  52.02578904, 227.05613466,\n",
       "       222.29306359, 180.69600117, 195.2840535 , 146.55513274,\n",
       "       148.32084904, 103.94658025, 164.14331885, 195.16919073,\n",
       "       259.74509925, 149.52551253, 169.76915859, 214.8969847 ,\n",
       "       135.33304958, 195.87096625, 267.86664563, 112.52542145,\n",
       "       109.3495463 ,  77.50159817,  57.35079256, 182.10493951,\n",
       "       180.52082719, 233.19232242, 196.72217832, 173.83007554,\n",
       "       133.67821687, 131.95988063, 172.75654575, 158.62213963,\n",
       "       220.89757141, 118.72253214, 204.31321528, 123.20208267,\n",
       "        64.96975679, 112.58136389, 154.15019103, 170.33006565,\n",
       "        87.87819754, 112.15426515, 237.95279036, 165.02887024,\n",
       "       152.78814902,  31.16139328, 121.0336271 , 240.22442916,\n",
       "       161.45627919, 128.71477568, 236.24481418,  37.90205721,\n",
       "       182.71136056, 191.46615356, 196.99861191, 125.89918986,\n",
       "       143.94689789, 122.88052136, 265.42262841,  62.59711407,\n",
       "        35.73665456, 158.62626628, 125.22854557, 241.56182878,\n",
       "       179.59631566, 125.05227667,  60.29651843,  68.55633037,\n",
       "       170.91408555, 170.35603383, 133.24544063, 192.41613496,\n",
       "       165.01751561,  32.72751105,  73.33627893, 211.32642144,\n",
       "       203.55299943, 144.06422398, 151.22426721, 101.91481731,\n",
       "       122.49549619, 186.00657255, 168.27203217, 177.14773494,\n",
       "       147.00792057, 125.5273756 , 124.4867379 , 121.20980152,\n",
       "        49.16556657,  -0.37525194, 209.66586159, 162.15266757,\n",
       "        54.07249448,  57.07190791, 185.44227687, 163.34576869,\n",
       "       182.98252867,  21.47620296,  80.59198693, 191.95660094,\n",
       "       181.39684387, 150.99736575,  55.11433716, 119.09004502,\n",
       "       240.58802878,  61.83059391, 263.93150906,  53.64929894])"
      ]
     },
     "execution_count": 51,
     "metadata": {},
     "output_type": "execute_result"
    }
   ],
   "source": [
    "model.predict(X_val)"
   ]
  },
  {
   "cell_type": "code",
   "execution_count": 52,
   "id": "73e8f481",
   "metadata": {},
   "outputs": [
    {
     "data": {
      "text/plain": [
       "0.43510681849311506"
      ]
     },
     "execution_count": 52,
     "metadata": {},
     "output_type": "execute_result"
    }
   ],
   "source": [
    "model.score(X_val,y_val)"
   ]
  },
  {
   "cell_type": "code",
   "execution_count": null,
   "id": "01244ca2",
   "metadata": {},
   "outputs": [],
   "source": []
  }
 ],
 "metadata": {
  "kernelspec": {
   "display_name": "Python 3",
   "language": "python",
   "name": "python3"
  },
  "language_info": {
   "codemirror_mode": {
    "name": "ipython",
    "version": 3
   },
   "file_extension": ".py",
   "mimetype": "text/x-python",
   "name": "python",
   "nbconvert_exporter": "python",
   "pygments_lexer": "ipython3",
   "version": "3.8.8"
  }
 },
 "nbformat": 4,
 "nbformat_minor": 5
}
